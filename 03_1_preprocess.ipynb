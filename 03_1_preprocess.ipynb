{
 "cells": [
  {
   "cell_type": "code",
   "execution_count": 1,
   "metadata": {},
   "outputs": [],
   "source": [
    "import pandas\n",
    "\n",
    "df = pandas.read_csv(\"./data_dcinside/raw_data.csv\", index_col=0)"
   ]
  },
  {
   "cell_type": "code",
   "execution_count": 2,
   "metadata": {},
   "outputs": [
    {
     "data": {
      "text/html": [
       "<div>\n",
       "<style scoped>\n",
       "    .dataframe tbody tr th:only-of-type {\n",
       "        vertical-align: middle;\n",
       "    }\n",
       "\n",
       "    .dataframe tbody tr th {\n",
       "        vertical-align: top;\n",
       "    }\n",
       "\n",
       "    .dataframe thead th {\n",
       "        text-align: right;\n",
       "    }\n",
       "</style>\n",
       "<table border=\"1\" class=\"dataframe\">\n",
       "  <thead>\n",
       "    <tr style=\"text-align: right;\">\n",
       "      <th></th>\n",
       "      <th>gallery</th>\n",
       "      <th>title</th>\n",
       "      <th>content</th>\n",
       "      <th>date</th>\n",
       "      <th>keyword</th>\n",
       "      <th>searchMode</th>\n",
       "      <th>disaster</th>\n",
       "    </tr>\n",
       "  </thead>\n",
       "  <tbody>\n",
       "    <tr>\n",
       "      <th>0</th>\n",
       "      <td>지진</td>\n",
       "      <td>2024년 12월 6일 미국지진 분석</td>\n",
       "      <td>CA 깊이0.6km Ⅷ 쓰나미경보 ChatGPT의 말: 2024년 12월 5일 캘리...</td>\n",
       "      <td>2024-12-06 04:48:00</td>\n",
       "      <td>지진</td>\n",
       "      <td>accuracy</td>\n",
       "      <td>NaN</td>\n",
       "    </tr>\n",
       "    <tr>\n",
       "      <th>1</th>\n",
       "      <td>지진</td>\n",
       "      <td>2024년 11월 5일~2024년 12월 5일 30일간 미국지진 분석</td>\n",
       "      <td>↓2024-11-05~2024-12-05 미국지진 M3.7이상 ★ 오타로 인해 자료...</td>\n",
       "      <td>2024-12-05 16:21:00</td>\n",
       "      <td>지진</td>\n",
       "      <td>accuracy</td>\n",
       "      <td>NaN</td>\n",
       "    </tr>\n",
       "    <tr>\n",
       "      <th>2</th>\n",
       "      <td>러시아-우크라이나</td>\n",
       "      <td>쿠바, 허리케인 끝나자 이번엔 규모 6.8 지진…\"이런 지진은 처음\"</td>\n",
       "      <td>지진 후 15회 이상 여진도 발생…쓰나미 위험은 없어 사망자 아직 보고되지 않았지만...</td>\n",
       "      <td>2024-11-11 08:37:00</td>\n",
       "      <td>지진</td>\n",
       "      <td>accuracy</td>\n",
       "      <td>NaN</td>\n",
       "    </tr>\n",
       "    <tr>\n",
       "      <th>3</th>\n",
       "      <td>일본 지진</td>\n",
       "      <td>11월17일~12월 5일 일본지진 Chatgpt분석</td>\n",
       "      <td>★ 오타로 인해 자료에 오류가 있을 가능성 있습니다. 2024-11-17 21:16...</td>\n",
       "      <td>2024-12-05 15:46:00</td>\n",
       "      <td>지진</td>\n",
       "      <td>accuracy</td>\n",
       "      <td>NaN</td>\n",
       "    </tr>\n",
       "    <tr>\n",
       "      <th>5</th>\n",
       "      <td>지진</td>\n",
       "      <td>님들아 제주도 지진 몆주간 계속 났는데 큰 지진 나나요?</td>\n",
       "      <td>옛날에 자잘한 지진 계속 나면 나중에 큰 지진 난다고 들었는데 지금 제주도 9월부터...</td>\n",
       "      <td>2024-11-14 00:14:00</td>\n",
       "      <td>지진</td>\n",
       "      <td>accuracy</td>\n",
       "      <td>NaN</td>\n",
       "    </tr>\n",
       "  </tbody>\n",
       "</table>\n",
       "</div>"
      ],
      "text/plain": [
       "     gallery                                   title  \\\n",
       "0         지진                    2024년 12월 6일 미국지진 분석   \n",
       "1         지진  2024년 11월 5일~2024년 12월 5일 30일간 미국지진 분석   \n",
       "2  러시아-우크라이나  쿠바, 허리케인 끝나자 이번엔 규모 6.8 지진…\"이런 지진은 처음\"   \n",
       "3      일본 지진            11월17일~12월 5일 일본지진 Chatgpt분석   \n",
       "5         지진         님들아 제주도 지진 몆주간 계속 났는데 큰 지진 나나요?   \n",
       "\n",
       "                                             content                 date  \\\n",
       "0  CA 깊이0.6km Ⅷ 쓰나미경보 ChatGPT의 말: 2024년 12월 5일 캘리...  2024-12-06 04:48:00   \n",
       "1  ↓2024-11-05~2024-12-05 미국지진 M3.7이상 ★ 오타로 인해 자료...  2024-12-05 16:21:00   \n",
       "2  지진 후 15회 이상 여진도 발생…쓰나미 위험은 없어 사망자 아직 보고되지 않았지만...  2024-11-11 08:37:00   \n",
       "3  ★ 오타로 인해 자료에 오류가 있을 가능성 있습니다. 2024-11-17 21:16...  2024-12-05 15:46:00   \n",
       "5  옛날에 자잘한 지진 계속 나면 나중에 큰 지진 난다고 들었는데 지금 제주도 9월부터...  2024-11-14 00:14:00   \n",
       "\n",
       "  keyword searchMode  disaster  \n",
       "0      지진   accuracy       NaN  \n",
       "1      지진   accuracy       NaN  \n",
       "2      지진   accuracy       NaN  \n",
       "3      지진   accuracy       NaN  \n",
       "5      지진   accuracy       NaN  "
      ]
     },
     "execution_count": 2,
     "metadata": {},
     "output_type": "execute_result"
    }
   ],
   "source": [
    "def clean_data(df):\n",
    "    # Drop duplicate rows in columns: 'title', 'content'\n",
    "    df = df.drop_duplicates(subset=['title', 'content'])\n",
    "    return df\n",
    "\n",
    "df_clean = clean_data(df.copy())\n",
    "df_clean.head()"
   ]
  },
  {
   "cell_type": "code",
   "execution_count": 3,
   "metadata": {},
   "outputs": [
    {
     "data": {
      "text/plain": [
       "1156"
      ]
     },
     "execution_count": 3,
     "metadata": {},
     "output_type": "execute_result"
    }
   ],
   "source": [
    "len(df_clean)"
   ]
  },
  {
   "cell_type": "code",
   "execution_count": 5,
   "metadata": {},
   "outputs": [],
   "source": [
    "df_clean.to_csv(\"./data_dcinside/data_deduped.csv\")"
   ]
  }
 ],
 "metadata": {
  "kernelspec": {
   "display_name": "base",
   "language": "python",
   "name": "python3"
  },
  "language_info": {
   "codemirror_mode": {
    "name": "ipython",
    "version": 3
   },
   "file_extension": ".py",
   "mimetype": "text/x-python",
   "name": "python",
   "nbconvert_exporter": "python",
   "pygments_lexer": "ipython3",
   "version": "3.12.4"
  }
 },
 "nbformat": 4,
 "nbformat_minor": 2
}
