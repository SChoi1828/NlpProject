{
 "cells": [
  {
   "cell_type": "markdown",
   "metadata": {},
   "source": [
    "## Notes\n",
    "\n",
    "_**Please note that the majority of the code related to the actual learning is mostly adapted from https://hoit1302.tistory.com/159 sans some cleanup and modifications to make it work!**_\n",
    "\n",
    "### Struggles and sufferings\n",
    "* KoBERT uses various outdated libraries (gluonnlp), which necessitates the use of Python 3.7.x\n",
    "    * (Python 3.7.3 was used, however the *absolute final* release is 3.7.17.)\n",
    "    * See https://linuxize.com/post/how-to-install-python-3-7-on-debian-9/ for instructions.\n",
    "    * Also, IMO the `--enable-optimizations` is not necessary. It runs some tests after building Python to collect PGO (profile-guided optimisation) data, which in theory can make the code run faster, but also comes at a very high cost during the initial compilation (apparently takes hours). Since our code is mostly GPU-intensive it isn't worth the time.\n",
    "    * (By the way, the issue is something to do with deprecated syntax (supposedly was a bug originally) that eventually got patched out on 3.8)\n",
    "* You also need python3-dev because there are libraries with native components that compile from C (can't remember which)\n",
    "* This necessitates the use of anything-other-than-colab, since you cannot really downgrade the python version of Colab\n",
    "    * There are hacks that involve re-installing the system-wide installation of python, however that does not work, at least as of 2024 because Google Colab uses some Python scripts to connect, which uses syntax from Python 3.8+ (`:=`) and therefore would not work on 3.7\n",
    "    * No colab would work. Period. Free tiers won't work, Pro tiers won't work, and Colab Enterprise won't work because of the same reason. (I tried.)\n",
    "        * Perhaps someone with more Python / Jupyter / Linux knowledge might have better luck with it, at least I couldn't get it working\n",
    "* Using [GCP provided 'Deep Learning VM images'](https://cloud.google.com/deep-learning-vm/docs/)\n",
    "    * GCP gives you $300 free credit for 3 months, but you need to enable billing (i.e., allow GCP to steal your money off your wallet once the free credit runs dry) to use GPU\n",
    "    * Once you enable billing, you need to 'request quota' for GPUs because that doesn't come standard??\n",
    "        * [Filter by `compute.googleapis.com/gpus_all_regions`](https://console.cloud.google.com/iam-admin/quotas?hl=en&metric=compute.googleapis.com%2Fgpus_all_regions)\n",
    "        * Click the three dot menu, and click 'edit quota'. You are prompted with a new value and the reason for requesting the quota increase.\n",
    "        * I wrote something on the line of \"Trying out natural language processing related machine-learning tasks\"\n",
    "        * It says it may take up to 2 business days but mine got through within minutes. You'll get a notification through your email when the request is approved\n",
    "    * Provisioned on Compute Engine n1-highmem-2 (2 vCPUs, 12GB RAM) with 1x NVIDIA T4\n",
    "        * Getting an instance is a pain since GPUs are on high demand thanks to the AI fad. Just retry in different regions until you get one. FWIW, I had success getting one from `southamerica-east1-c`\n",
    "        * Might be a better idea to get more cores, since this involves various compilation from sources\n",
    "    * Also - SSH'ing into the GCP is also a pain. Why does it have to be so hard??? I know it's because of enterprise-grade security but ugh.\n",
    "    * Setting up the SSH key is unnecessarily complicated (something something 'OS login'), you can get SSH through the web browser but nobody wants that\n",
    "    * `authorized_keys` gets constantly reset (supposedly something to do with the OS login thing), you can't even `sudo` through ssh unless you mess around with sudoers\n",
    "* `transformers` relies on `tokenizers`, which has codes written in Rust\n",
    "    * [Due to updated specs the source won't compile in newer versions of rust](https://github.com/huggingface/tokenizers/issues/1485#issuecomment-2040349997)\n",
    "* NumPy also has to be on version 1.21.6 because some library uses numpy.bool which is deprecated in the latest version of NumPy and will raise error (can't remember which) and newer versions won't work on Python 3.7\n",
    "* Since the KoBERT model itself is only available on HuggingFace, some of the sample codes available online won't work out of the box\n",
    "    * Most of the ML-related Python codes come from https://hoit1302.tistory.com/159 which worked well enough (albeit with questionable programming choices, IMO)\n",
    "\n",
    "Thanks VSCode w/ SSH extension for everything.\n",
    "\n",
    "```bash\n",
    "# Installing Python 3.7\n",
    "# --- Installing build dependencies\n",
    "sudo apt install build-essential zlib1g-dev libncurses5-dev libgdbm-dev libnss3-dev libssl-dev libreadline-dev libffi-dev curl libbz2-dev\n",
    "# --- Download source tarball\n",
    "curl -O https://www.python.org/ftp/python/3.7.17/Python-3.7.17.tar.xz\n",
    "# --- Extract to folder\n",
    "tar -xf Python-3.7.17.tar.xz\n",
    "# --- Navigate to folder, then configure build, then build Python\n",
    "# Note that this compilation will be missing lzma related bits - I will leave that as an exercise for readers (since I didn't need one, frankly)\n",
    "# Pandas will complain on import about the missing lzma but it works fine as long as you don't use it\n",
    "cd Python-3.7.17\n",
    "./configure\n",
    "make -j {CORE_COUNT} # !! change {CORE_COUNT} with core count. My machine has 2 so it'd be make -j 2\n",
    "# Install python as python3.7. Check Python Version. Return to previous dir.\n",
    "sudo make altinstall\n",
    "python3.7 --version\n",
    "cd ..\n",
    "\n",
    "# Contains native headers for C-python interop. Used by safetensors (---> pandas I think?)\n",
    "sudo apt install python3-dev\n",
    "# Install Rust for tokenizers (---> transformers)\n",
    "curl --proto '=https' --tlsv1.2 -sSf https://sh.rustup.rs | sh\n",
    "# Specify 1.72.1 to compile tokenizers. This may take a while because Rust...\n",
    "rustup install 1.72.1\n",
    "# I added --user when running pip install commands because I was getting hit with insufficient permission errors. Clearly I don't know much about it\n",
    "RUSTUP_TOOLCHAIN=1.72.1 python3.7 -m pip install tokenizers==0.13.2\n",
    "# Required for gluonnlp - it complains about something on the line of cython is 3.8+ only otherwise.\n",
    "python3.7 -m pip install cython\n",
    "# Latest numpy available on Python 3.7\n",
    "python3.7 -m pip install numpy==1.21.6\n",
    "python3.7 -m pip install transformers sentencepiece gluonnlp pandas mxnet torch ipywidgets scikit-learn\n",
    "python3.7 -m pip install \"git+https://github.com/SKTBrain/KoBERT.git#egg=kobert_tokenizer&subdirectory=kobert_hf\"\n",
    "```"
   ]
  },
  {
   "cell_type": "code",
   "execution_count": 65,
   "metadata": {
    "colab": {
     "base_uri": "https://localhost:8080/",
     "height": 394
    },
    "id": "miyHwgvkwJlN",
    "outputId": "7957e674-3c9f-48c3-9b7f-c43333de93b6"
   },
   "outputs": [],
   "source": [
    "#\n",
    "import torch\n",
    "from torch import nn\n",
    "import torch.nn.functional as F\n",
    "import torch.optim as optim\n",
    "from torch.utils.data import Dataset, DataLoader\n",
    "import gluonnlp as nlp\n",
    "import numpy as np\n",
    "from tqdm.notebook import tqdm, tqdm_notebook\n",
    "import pandas\n",
    "\n",
    "# transformers.AdamW is deprecated.\n",
    "from torch.optim import AdamW\n",
    "from transformers.optimization import get_cosine_schedule_with_warmup\n",
    "from transformers import BertModel\n",
    "from kobert_tokenizer import KoBERTTokenizer\n"
   ]
  },
  {
   "cell_type": "code",
   "execution_count": 66,
   "metadata": {
    "id": "-MrCyAJJwJlP"
   },
   "outputs": [],
   "source": [
    "device = torch.device(\"cuda:0\")"
   ]
  },
  {
   "cell_type": "code",
   "execution_count": 67,
   "metadata": {
    "id": "Ywn8pPb1wJlR"
   },
   "outputs": [],
   "source": [
    "# Apparently this config can help with sentences without proper spaces.\n",
    "from transformers import XLNetTokenizer\n",
    "tokenizer = XLNetTokenizer.from_pretrained('skt/kobert-base-v1', sp_model_kwargs={'nbest_size': -1, 'alpha': 0.6, 'enable_sampling': True})\n",
    "vocab = nlp.vocab.BERTVocab.from_sentencepiece(tokenizer.vocab_file, padding_token='[PAD]')"
   ]
  },
  {
   "cell_type": "code",
   "execution_count": 68,
   "metadata": {
    "id": "svBijoM9wJlS"
   },
   "outputs": [],
   "source": [
    "bertModel = BertModel.from_pretrained('skt/kobert-base-v1')"
   ]
  },
  {
   "cell_type": "code",
   "execution_count": 69,
   "metadata": {
    "id": "ijflfZWJwJlS",
    "outputId": "1dd72123-bd65-4b20-cee8-de857b83707e"
   },
   "outputs": [],
   "source": [
    "df = pandas.read_csv(\"./data_dcinside/transformed.csv\", index_col=0)"
   ]
  },
  {
   "cell_type": "code",
   "execution_count": 7,
   "metadata": {
    "id": "QMuo3sFWwJlT"
   },
   "outputs": [
    {
     "data": {
      "text/plain": [
       "array(['none', 'earthquake', 'fire', 'sinkhole'], dtype=object)"
      ]
     },
     "execution_count": 7,
     "metadata": {},
     "output_type": "execute_result"
    },
    {
     "data": {
      "text/plain": [
       "array(['none', 'earthquake', 'fire', 'sinkhole'], dtype=object)"
      ]
     },
     "execution_count": 70,
     "metadata": {},
     "output_type": "execute_result"
    }
   ],
   "source": [
    "labels = df[\"disasterKind\"].unique()\n",
    "labels"
   ]
  },
  {
   "cell_type": "code",
   "execution_count": 8,
   "metadata": {
    "id": "7IMZe3efwJlT"
   },
   "outputs": [],
   "source": [
    "labelToInteger = {\n",
    "    \"none\": 0,\n",
    "    \"earthquake\": 1,\n",
    "    \"fire\": 2,\n",
    "    \"sinkhole\": 3\n",
    "}\n",
    "\n",
    "integerToLabel = {\n",
    "    0: \"none\",\n",
    "    1: \"earthquake\",\n",
    "    2: \"fire\",\n",
    "    3: \"sinkhole\"\n",
    "}\n",
    "\n",
    "df[\"disasterKind\"] = df[\"disasterKind\"].replace(labelToInteger)"
   ]
  },
  {
   "cell_type": "code",
   "execution_count": 9,
   "metadata": {
    "id": "EOYKDxCTwJlU"
   },
   "outputs": [
    {
     "data": {
      "text/plain": [
       "merged          object\n",
       "disasterKind     int64\n",
       "dtype: object"
      ]
     },
     "execution_count": 9,
     "metadata": {},
     "output_type": "execute_result"
    }
   ],
   "source": [
    "df.dtypes"
   ]
  },
  {
   "cell_type": "code",
   "execution_count": 10,
   "metadata": {},
   "outputs": [
    {
     "data": {
      "text/html": [
       "<div>\n",
       "<style scoped>\n",
       "    .dataframe tbody tr th:only-of-type {\n",
       "        vertical-align: middle;\n",
       "    }\n",
       "\n",
       "    .dataframe tbody tr th {\n",
       "        vertical-align: top;\n",
       "    }\n",
       "\n",
       "    .dataframe thead th {\n",
       "        text-align: right;\n",
       "    }\n",
       "</style>\n",
       "<table border=\"1\" class=\"dataframe\">\n",
       "  <thead>\n",
       "    <tr style=\"text-align: right;\">\n",
       "      <th></th>\n",
       "      <th>merged</th>\n",
       "      <th>disasterKind</th>\n",
       "    </tr>\n",
       "  </thead>\n",
       "  <tbody>\n",
       "    <tr>\n",
       "      <th>0</th>\n",
       "      <td>2024년 12월 6일 미국지진 분석\\nCA 깊이0.6km Ⅷ 쓰나미경보 ChatG...</td>\n",
       "      <td>0</td>\n",
       "    </tr>\n",
       "    <tr>\n",
       "      <th>1</th>\n",
       "      <td>2024년 11월 5일~2024년 12월 5일 30일간 미국지진 분석\\n↓2024-...</td>\n",
       "      <td>0</td>\n",
       "    </tr>\n",
       "    <tr>\n",
       "      <th>2</th>\n",
       "      <td>쿠바, 허리케인 끝나자 이번엔 규모 6.8 지진…\"이런 지진은 처음\"\\n지진 후 1...</td>\n",
       "      <td>1</td>\n",
       "    </tr>\n",
       "    <tr>\n",
       "      <th>3</th>\n",
       "      <td>11월17일~12월 5일 일본지진 Chatgpt분석\\n★ 오타로 인해 자료에 오류가...</td>\n",
       "      <td>0</td>\n",
       "    </tr>\n",
       "    <tr>\n",
       "      <th>5</th>\n",
       "      <td>님들아 제주도 지진 몆주간 계속 났는데 큰 지진 나나요?\\n옛날에 자잘한 지진 계속...</td>\n",
       "      <td>0</td>\n",
       "    </tr>\n",
       "  </tbody>\n",
       "</table>\n",
       "</div>"
      ],
      "text/plain": [
       "                                              merged  disasterKind\n",
       "0  2024년 12월 6일 미국지진 분석\\nCA 깊이0.6km Ⅷ 쓰나미경보 ChatG...             0\n",
       "1  2024년 11월 5일~2024년 12월 5일 30일간 미국지진 분석\\n↓2024-...             0\n",
       "2  쿠바, 허리케인 끝나자 이번엔 규모 6.8 지진…\"이런 지진은 처음\"\\n지진 후 1...             1\n",
       "3  11월17일~12월 5일 일본지진 Chatgpt분석\\n★ 오타로 인해 자료에 오류가...             0\n",
       "5  님들아 제주도 지진 몆주간 계속 났는데 큰 지진 나나요?\\n옛날에 자잘한 지진 계속...             0"
      ]
     },
     "execution_count": 10,
     "metadata": {},
     "output_type": "execute_result"
    }
   ],
   "source": [
    "df.head()"
   ]
  },
  {
   "cell_type": "code",
   "execution_count": 11,
   "metadata": {
    "id": "S2OBDiTOwJlU"
   },
   "outputs": [],
   "source": [
    "data_list = []\n",
    "for content, label in zip(df[\"merged\"], df[\"disasterKind\"]):\n",
    "    data_list.append([content, label])\n"
   ]
  },
  {
   "cell_type": "markdown",
   "metadata": {},
   "source": [
    "### Type Definition"
   ]
  },
  {
   "cell_type": "code",
   "execution_count": 12,
   "metadata": {
    "id": "rWHAgCXWwJlU"
   },
   "outputs": [],
   "source": [
    "class BERTDataset(Dataset):\n",
    "    def __init__(self, dataset, sentenceIndex, labelIndex, bert_tokenizer, vocab, max_len, pad, pair):\n",
    "        transform = nlp.data.BERTSentenceTransform(\n",
    "            bert_tokenizer, max_seq_length=max_len, vocab=vocab, pad=pad, pair=pair)\n",
    "\n",
    "        self.sentences = [transform([data[sentenceIndex]]) for data in dataset]\n",
    "        self.labels = [np.int32(data[labelIndex]) for data in dataset]\n",
    "\n",
    "    def __getitem__(self, i):\n",
    "        return (self.sentences[i] + (self.labels[i], ))\n",
    "\n",
    "    def __len__(self):\n",
    "        return (len(self.labels))"
   ]
  },
  {
   "cell_type": "code",
   "execution_count": 13,
   "metadata": {
    "id": "TpXxAWMEwJlV"
   },
   "outputs": [],
   "source": [
    "class BERTClassifier(nn.Module):\n",
    "    def __init__(self,\n",
    "                 bert,\n",
    "                 hidden_size = 768,\n",
    "                 num_classes=len(labelToInteger), ##클래스 수 조정##\n",
    "                 dr_rate=None,\n",
    "                 params=None):\n",
    "        super(BERTClassifier, self).__init__()\n",
    "        self.bert = bert\n",
    "        self.dr_rate = dr_rate\n",
    "\n",
    "        self.classifier = nn.Linear(hidden_size , num_classes)\n",
    "        if dr_rate:\n",
    "            self.dropout = nn.Dropout(p=dr_rate)\n",
    "\n",
    "    def gen_attention_mask(self, token_ids, valid_length):\n",
    "        attention_mask = torch.zeros_like(token_ids)\n",
    "        for i, v in enumerate(valid_length):\n",
    "            attention_mask[i][:v] = 1\n",
    "        return attention_mask.float()\n",
    "\n",
    "    def forward(self, token_ids, valid_length, segment_ids):\n",
    "        attention_mask = self.gen_attention_mask(token_ids, valid_length)\n",
    "\n",
    "        _, pooler = self.bert(input_ids = token_ids, token_type_ids = segment_ids.long(), attention_mask = attention_mask.float().to(token_ids.device),return_dict=False)\n",
    "        if self.dr_rate:\n",
    "            out = self.dropout(pooler)\n",
    "        return self.classifier(out)"
   ]
  },
  {
   "cell_type": "markdown",
   "metadata": {
    "id": "SuGzvHAFwJlV"
   },
   "source": [
    "### Training"
   ]
  },
  {
   "cell_type": "code",
   "execution_count": 14,
   "metadata": {
    "id": "FdDu3pDNwJlW"
   },
   "outputs": [],
   "source": [
    "# Setting parameters\n",
    "max_len = 96\n",
    "batch_size = 64\n",
    "warmup_ratio = 0.1\n",
    "num_epochs = 5\n",
    "max_grad_norm = 1\n",
    "log_interval = 200\n",
    "learning_rate =  5e-5"
   ]
  },
  {
   "cell_type": "code",
   "execution_count": 15,
   "metadata": {
    "id": "_l1VathOwJlW"
   },
   "outputs": [],
   "source": [
    "from sklearn.model_selection import train_test_split\n",
    "\n",
    "# Due to very small amount of sample, we need to ensure that some of each label gets included\n",
    "dataset_train, dataset_test = train_test_split(data_list, test_size=0.2, shuffle=True, random_state=42, stratify=df[\"disasterKind\"])"
   ]
  },
  {
   "cell_type": "code",
   "execution_count": 16,
   "metadata": {
    "id": "1-0F2eYjwJlX"
   },
   "outputs": [],
   "source": [
    "tok=tokenizer.tokenize\n",
    "data_train = BERTDataset(dataset_train, 0, 1, tok, vocab, max_len, True, False)\n",
    "data_test = BERTDataset(dataset_test, 0, 1, tok, vocab, max_len, True, False)"
   ]
  },
  {
   "cell_type": "code",
   "execution_count": 17,
   "metadata": {},
   "outputs": [
    {
     "data": {
      "text/plain": [
       "0    734\n",
       "2    108\n",
       "3     53\n",
       "1     29\n",
       "Name: label, dtype: int64"
      ]
     },
     "execution_count": 17,
     "metadata": {},
     "output_type": "execute_result"
    }
   ],
   "source": [
    "# Checking if the output is stratified correctly\n",
    "trainDf = pandas.DataFrame(dataset_train, columns=[\"content\", \"label\"])\n",
    "trainDf[\"label\"].value_counts()"
   ]
  },
  {
   "cell_type": "code",
   "execution_count": 18,
   "metadata": {},
   "outputs": [
    {
     "data": {
      "text/plain": [
       "0    184\n",
       "2     27\n",
       "3     14\n",
       "1      7\n",
       "Name: label, dtype: int64"
      ]
     },
     "execution_count": 18,
     "metadata": {},
     "output_type": "execute_result"
    }
   ],
   "source": [
    "# Checking if the output is stratified correctly\n",
    "testDf = pandas.DataFrame(dataset_test, columns=[\"content\", \"label\"])\n",
    "testDf[\"label\"].value_counts()"
   ]
  },
  {
   "cell_type": "code",
   "execution_count": 19,
   "metadata": {
    "id": "uGvgUAvvwJlX"
   },
   "outputs": [],
   "source": [
    "# Regarding num_workers:\n",
    "# WARNING: This DataLoader will create {specified value} worker processes in total.\n",
    "# Our suggested max number of worker in current system is {core count on system}, which is smaller than what this DataLoader is going to create.\n",
    "# Please be aware that excessive worker creation might get DataLoader running slow or even freeze, lower the worker number to avoid potential slowness/freeze if necessary.\n",
    "train_dataloader = torch.utils.data.DataLoader(data_train, batch_size=batch_size, num_workers=2)\n",
    "test_dataloader = torch.utils.data.DataLoader(data_test, batch_size=batch_size, num_workers=2)"
   ]
  },
  {
   "cell_type": "code",
   "execution_count": 20,
   "metadata": {
    "id": "Ajr-Vm2twJlX"
   },
   "outputs": [
    {
     "data": {
      "text/plain": [
       "<torch.utils.data.dataloader.DataLoader at 0x7fe8adfdcba8>"
      ]
     },
     "execution_count": 20,
     "metadata": {},
     "output_type": "execute_result"
    }
   ],
   "source": [
    "#BERT 모델 불러오기\n",
    "model = BERTClassifier(bertModel,  dr_rate=0.5).to(device)\n",
    "\n",
    "#optimizer와 schedule 설정\n",
    "no_decay = ['bias', 'LayerNorm.weight']\n",
    "optimizer_grouped_parameters = [\n",
    "    {'params': [p for n, p in model.named_parameters() if not any(nd in n for nd in no_decay)], 'weight_decay': 0.01},\n",
    "    {'params': [p for n, p in model.named_parameters() if any(nd in n for nd in no_decay)], 'weight_decay': 0.0}\n",
    "]\n",
    "\n",
    "optimizer = AdamW(optimizer_grouped_parameters, lr=learning_rate)\n",
    "loss_fn = nn.CrossEntropyLoss() # 다중분류를 위한 대표적인 loss func\n",
    "\n",
    "t_total = len(train_dataloader) * num_epochs\n",
    "warmup_step = int(t_total * warmup_ratio)\n",
    "\n",
    "scheduler = get_cosine_schedule_with_warmup(optimizer, num_warmup_steps=warmup_step, num_training_steps=t_total)\n",
    "\n",
    "#정확도 측정을 위한 함수 정의\n",
    "def calc_accuracy(X,Y):\n",
    "    max_vals, max_indices = torch.max(X, 1)\n",
    "    train_acc = (max_indices == Y).sum().data.cpu().numpy()/max_indices.size()[0]\n",
    "    return train_acc\n",
    "\n",
    "train_dataloader"
   ]
  },
  {
   "cell_type": "code",
   "execution_count": 21,
   "metadata": {
    "id": "FCmIpmBlwJlX"
   },
   "outputs": [
    {
     "data": {
      "application/vnd.jupyter.widget-view+json": {
       "model_id": "a76004bca62948eda4d95044146bb883",
       "version_major": 2,
       "version_minor": 0
      },
      "text/plain": [
       "  0%|          | 0/15 [00:00<?, ?it/s]"
      ]
     },
     "metadata": {},
     "output_type": "display_data"
    },
    {
     "name": "stdout",
     "output_type": "stream",
     "text": [
      "epoch 1 batch id 1 loss 1.3191807270050049 train acc 0.390625\n",
      "epoch 1 train acc 0.6773809523809524\n"
     ]
    },
    {
     "data": {
      "application/vnd.jupyter.widget-view+json": {
       "model_id": "007d25e3c4114117a25921d105519a21",
       "version_major": 2,
       "version_minor": 0
      },
      "text/plain": [
       "  0%|          | 0/4 [00:00<?, ?it/s]"
      ]
     },
     "metadata": {},
     "output_type": "display_data"
    },
    {
     "name": "stdout",
     "output_type": "stream",
     "text": [
      "epoch 1 test acc 0.79375\n"
     ]
    },
    {
     "data": {
      "application/vnd.jupyter.widget-view+json": {
       "model_id": "74126d738f464d52b96d0657680faf59",
       "version_major": 2,
       "version_minor": 0
      },
      "text/plain": [
       "  0%|          | 0/15 [00:00<?, ?it/s]"
      ]
     },
     "metadata": {},
     "output_type": "display_data"
    },
    {
     "name": "stdout",
     "output_type": "stream",
     "text": [
      "epoch 2 batch id 1 loss 0.6914362907409668 train acc 0.8125\n",
      "epoch 2 train acc 0.8186011904761905\n"
     ]
    },
    {
     "data": {
      "application/vnd.jupyter.widget-view+json": {
       "model_id": "3d729667c78f425592c596df6805261c",
       "version_major": 2,
       "version_minor": 0
      },
      "text/plain": [
       "  0%|          | 0/4 [00:00<?, ?it/s]"
      ]
     },
     "metadata": {},
     "output_type": "display_data"
    },
    {
     "name": "stdout",
     "output_type": "stream",
     "text": [
      "epoch 2 test acc 0.86328125\n"
     ]
    },
    {
     "data": {
      "application/vnd.jupyter.widget-view+json": {
       "model_id": "94eea4f71317441d9d7d08ff6e9071ac",
       "version_major": 2,
       "version_minor": 0
      },
      "text/plain": [
       "  0%|          | 0/15 [00:00<?, ?it/s]"
      ]
     },
     "metadata": {},
     "output_type": "display_data"
    },
    {
     "name": "stdout",
     "output_type": "stream",
     "text": [
      "epoch 3 batch id 1 loss 0.5232982635498047 train acc 0.828125\n",
      "epoch 3 train acc 0.8686011904761906\n"
     ]
    },
    {
     "data": {
      "application/vnd.jupyter.widget-view+json": {
       "model_id": "f4aace6f27c8461795fccd929d462f0e",
       "version_major": 2,
       "version_minor": 0
      },
      "text/plain": [
       "  0%|          | 0/4 [00:00<?, ?it/s]"
      ]
     },
     "metadata": {},
     "output_type": "display_data"
    },
    {
     "name": "stdout",
     "output_type": "stream",
     "text": [
      "epoch 3 test acc 0.91953125\n"
     ]
    },
    {
     "data": {
      "application/vnd.jupyter.widget-view+json": {
       "model_id": "4478ee1641b740c2a57e199df57abcab",
       "version_major": 2,
       "version_minor": 0
      },
      "text/plain": [
       "  0%|          | 0/15 [00:00<?, ?it/s]"
      ]
     },
     "metadata": {},
     "output_type": "display_data"
    },
    {
     "name": "stdout",
     "output_type": "stream",
     "text": [
      "epoch 4 batch id 1 loss 0.42688438296318054 train acc 0.84375\n",
      "epoch 4 train acc 0.9392857142857143\n"
     ]
    },
    {
     "data": {
      "application/vnd.jupyter.widget-view+json": {
       "model_id": "38b4702a08a04460a01e444d211f9edd",
       "version_major": 2,
       "version_minor": 0
      },
      "text/plain": [
       "  0%|          | 0/4 [00:00<?, ?it/s]"
      ]
     },
     "metadata": {},
     "output_type": "display_data"
    },
    {
     "name": "stdout",
     "output_type": "stream",
     "text": [
      "epoch 4 test acc 0.95078125\n"
     ]
    },
    {
     "data": {
      "application/vnd.jupyter.widget-view+json": {
       "model_id": "cc8cdd94fd6c4d0db47beaff5b11d260",
       "version_major": 2,
       "version_minor": 0
      },
      "text/plain": [
       "  0%|          | 0/15 [00:00<?, ?it/s]"
      ]
     },
     "metadata": {},
     "output_type": "display_data"
    },
    {
     "name": "stdout",
     "output_type": "stream",
     "text": [
      "epoch 5 batch id 1 loss 0.29965880513191223 train acc 0.921875\n",
      "epoch 5 train acc 0.9590773809523809\n"
     ]
    },
    {
     "data": {
      "application/vnd.jupyter.widget-view+json": {
       "model_id": "fa434512b4f64e069c48a558f4117a79",
       "version_major": 2,
       "version_minor": 0
      },
      "text/plain": [
       "  0%|          | 0/4 [00:00<?, ?it/s]"
      ]
     },
     "metadata": {},
     "output_type": "display_data"
    },
    {
     "name": "stdout",
     "output_type": "stream",
     "text": [
      "epoch 5 test acc 0.940625\n"
     ]
    }
   ],
   "source": [
    "# On machine with NVIDIA T4:\n",
    "# took 48.8s, max_len=64. test acc 0.82265625\n",
    "# took 1m22s, max_len=96,  test acc 0.940625 < Chosen because it seems to be the largest model that can be used without running ot of VRAM\n",
    "# took 1m43s, max-len=128, test acc 0.90703125\n",
    "train_history=[]\n",
    "test_history=[]\n",
    "loss_history=[]\n",
    "for e in range(num_epochs):\n",
    "    train_acc = 0.0\n",
    "    test_acc = 0.0\n",
    "    model.train()\n",
    "    for batch_id, (token_ids, valid_length, segment_ids, label) in enumerate(tqdm_notebook(train_dataloader)):\n",
    "        optimizer.zero_grad()\n",
    "        token_ids = token_ids.long().to(device)\n",
    "        segment_ids = segment_ids.long().to(device)\n",
    "        valid_length= valid_length\n",
    "        label = label.long().to(device)\n",
    "        out = model(token_ids, valid_length, segment_ids)\n",
    "\n",
    "        #print(label.shape,out.shape)\n",
    "        loss = loss_fn(out, label)\n",
    "        loss.backward()\n",
    "        torch.nn.utils.clip_grad_norm_(model.parameters(), max_grad_norm)\n",
    "        optimizer.step()\n",
    "        scheduler.step()  # Update learning rate schedule\n",
    "        train_acc += calc_accuracy(out, label)\n",
    "        if batch_id % log_interval == 0:\n",
    "            print(\"epoch {} batch id {} loss {} train acc {}\".format(e+1, batch_id+1, loss.data.cpu().numpy(), train_acc / (batch_id+1)))\n",
    "            train_history.append(train_acc / (batch_id+1))\n",
    "            loss_history.append(loss.data.cpu().numpy())\n",
    "    print(\"epoch {} train acc {}\".format(e+1, train_acc / (batch_id+1)))\n",
    "    #train_history.append(train_acc / (batch_id+1))\n",
    "\n",
    "    model.eval()\n",
    "    for batch_id, (token_ids, valid_length, segment_ids, label) in enumerate(tqdm_notebook(test_dataloader)):\n",
    "        token_ids = token_ids.long().to(device)\n",
    "        segment_ids = segment_ids.long().to(device)\n",
    "        valid_length= valid_length\n",
    "        label = label.long().to(device)\n",
    "        out = model(token_ids, valid_length, segment_ids)\n",
    "        test_acc += calc_accuracy(out, label)\n",
    "    print(\"epoch {} test acc {}\".format(e+1, test_acc / (batch_id+1)))\n",
    "    test_history.append(test_acc / (batch_id+1))"
   ]
  },
  {
   "cell_type": "code",
   "execution_count": 64,
   "metadata": {},
   "outputs": [],
   "source": [
    "torch.save(model.state_dict(), 'model_state_dict.pt')"
   ]
  },
  {
   "cell_type": "markdown",
   "metadata": {},
   "source": [
    "### Evaluation"
   ]
  },
  {
   "cell_type": "code",
   "execution_count": 22,
   "metadata": {},
   "outputs": [],
   "source": [
    "def predict(sentences):\n",
    "\n",
    "    dataset_another = [[sentence, '0'] for sentence in sentences]\n",
    "\n",
    "    another_test = BERTDataset(dataset_another, 0, 1, tok, vocab, max_len, True, False)\n",
    "    test_dataloader = torch.utils.data.DataLoader(another_test, batch_size=batch_size, num_workers=2)\n",
    "    \n",
    "    model.eval()\n",
    "    test_eval= []\n",
    "    for batch_id, (token_ids, valid_length, segment_ids, label) in enumerate(test_dataloader):\n",
    "        token_ids = token_ids.long().to(device)\n",
    "        segment_ids = segment_ids.long().to(device)\n",
    "\n",
    "        valid_length= valid_length\n",
    "        label = label.long().to(device)\n",
    "\n",
    "        out = model(token_ids, valid_length, segment_ids)\n",
    "\n",
    "        for i in out:\n",
    "            logits = i\n",
    "            logits = logits.detach().cpu().numpy()\n",
    "\n",
    "            test_eval.append(integerToLabel[np.argmax(logits)])\n",
    "    return test_eval\n"
   ]
  },
  {
   "cell_type": "markdown",
   "metadata": {},
   "source": [
    "### Bogus analysis with whole of the dataset"
   ]
  },
  {
   "cell_type": "code",
   "execution_count": 23,
   "metadata": {},
   "outputs": [],
   "source": [
    "predicted = predict(df[\"merged\"].values)"
   ]
  },
  {
   "cell_type": "code",
   "execution_count": 24,
   "metadata": {},
   "outputs": [
    {
     "data": {
      "text/plain": [
       "['none',\n",
       " 'none',\n",
       " 'earthquake',\n",
       " 'none',\n",
       " 'none',\n",
       " 'none',\n",
       " 'none',\n",
       " 'earthquake',\n",
       " 'none',\n",
       " 'earthquake',\n",
       " 'earthquake',\n",
       " 'none',\n",
       " 'none',\n",
       " 'none',\n",
       " 'none',\n",
       " 'none',\n",
       " 'none',\n",
       " 'earthquake',\n",
       " 'none',\n",
       " 'none',\n",
       " 'earthquake',\n",
       " 'none',\n",
       " 'none',\n",
       " 'none',\n",
       " 'earthquake',\n",
       " 'none',\n",
       " 'earthquake',\n",
       " 'none',\n",
       " 'none',\n",
       " 'none',\n",
       " 'none',\n",
       " 'none',\n",
       " 'none',\n",
       " 'earthquake',\n",
       " 'none',\n",
       " 'earthquake',\n",
       " 'none',\n",
       " 'none',\n",
       " 'none',\n",
       " 'none',\n",
       " 'earthquake',\n",
       " 'earthquake',\n",
       " 'none',\n",
       " 'earthquake',\n",
       " 'earthquake',\n",
       " 'none',\n",
       " 'earthquake',\n",
       " 'none',\n",
       " 'none',\n",
       " 'none',\n",
       " 'earthquake',\n",
       " 'none',\n",
       " 'none',\n",
       " 'none',\n",
       " 'earthquake',\n",
       " 'none',\n",
       " 'earthquake',\n",
       " 'none',\n",
       " 'none',\n",
       " 'earthquake',\n",
       " 'none',\n",
       " 'earthquake',\n",
       " 'none',\n",
       " 'none',\n",
       " 'none',\n",
       " 'earthquake',\n",
       " 'none',\n",
       " 'none',\n",
       " 'earthquake',\n",
       " 'earthquake',\n",
       " 'none',\n",
       " 'none',\n",
       " 'none',\n",
       " 'none',\n",
       " 'none',\n",
       " 'none',\n",
       " 'none',\n",
       " 'none',\n",
       " 'fire',\n",
       " 'none',\n",
       " 'earthquake',\n",
       " 'none',\n",
       " 'none',\n",
       " 'earthquake',\n",
       " 'none',\n",
       " 'none',\n",
       " 'none',\n",
       " 'earthquake',\n",
       " 'earthquake',\n",
       " 'none',\n",
       " 'none',\n",
       " 'none',\n",
       " 'earthquake',\n",
       " 'none',\n",
       " 'none',\n",
       " 'earthquake',\n",
       " 'none',\n",
       " 'earthquake',\n",
       " 'none',\n",
       " 'none',\n",
       " 'none',\n",
       " 'earthquake',\n",
       " 'none',\n",
       " 'none',\n",
       " 'none',\n",
       " 'none',\n",
       " 'none',\n",
       " 'none',\n",
       " 'none',\n",
       " 'earthquake',\n",
       " 'earthquake',\n",
       " 'none',\n",
       " 'none',\n",
       " 'none',\n",
       " 'none',\n",
       " 'none',\n",
       " 'none',\n",
       " 'none',\n",
       " 'none',\n",
       " 'none',\n",
       " 'earthquake',\n",
       " 'none',\n",
       " 'none',\n",
       " 'none',\n",
       " 'none',\n",
       " 'none',\n",
       " 'none',\n",
       " 'none',\n",
       " 'none',\n",
       " 'none',\n",
       " 'none',\n",
       " 'none',\n",
       " 'none',\n",
       " 'none',\n",
       " 'none',\n",
       " 'none',\n",
       " 'none',\n",
       " 'none',\n",
       " 'none',\n",
       " 'none',\n",
       " 'none',\n",
       " 'fire',\n",
       " 'none',\n",
       " 'none',\n",
       " 'none',\n",
       " 'none',\n",
       " 'none',\n",
       " 'none',\n",
       " 'none',\n",
       " 'none',\n",
       " 'none',\n",
       " 'none',\n",
       " 'none',\n",
       " 'none',\n",
       " 'none',\n",
       " 'none',\n",
       " 'none',\n",
       " 'none',\n",
       " 'none',\n",
       " 'none',\n",
       " 'none',\n",
       " 'none',\n",
       " 'none',\n",
       " 'none',\n",
       " 'none',\n",
       " 'none',\n",
       " 'none',\n",
       " 'none',\n",
       " 'none',\n",
       " 'none',\n",
       " 'none',\n",
       " 'none',\n",
       " 'none',\n",
       " 'none',\n",
       " 'none',\n",
       " 'none',\n",
       " 'none',\n",
       " 'none',\n",
       " 'none',\n",
       " 'none',\n",
       " 'none',\n",
       " 'none',\n",
       " 'none',\n",
       " 'none',\n",
       " 'none',\n",
       " 'none',\n",
       " 'none',\n",
       " 'none',\n",
       " 'none',\n",
       " 'none',\n",
       " 'none',\n",
       " 'none',\n",
       " 'none',\n",
       " 'none',\n",
       " 'none',\n",
       " 'none',\n",
       " 'none',\n",
       " 'none',\n",
       " 'none',\n",
       " 'none',\n",
       " 'none',\n",
       " 'none',\n",
       " 'none',\n",
       " 'none',\n",
       " 'none',\n",
       " 'none',\n",
       " 'none',\n",
       " 'none',\n",
       " 'none',\n",
       " 'none',\n",
       " 'none',\n",
       " 'none',\n",
       " 'none',\n",
       " 'none',\n",
       " 'fire',\n",
       " 'none',\n",
       " 'none',\n",
       " 'none',\n",
       " 'none',\n",
       " 'none',\n",
       " 'none',\n",
       " 'none',\n",
       " 'none',\n",
       " 'none',\n",
       " 'none',\n",
       " 'none',\n",
       " 'none',\n",
       " 'none',\n",
       " 'none',\n",
       " 'none',\n",
       " 'none',\n",
       " 'fire',\n",
       " 'none',\n",
       " 'fire',\n",
       " 'fire',\n",
       " 'none',\n",
       " 'fire',\n",
       " 'fire',\n",
       " 'none',\n",
       " 'none',\n",
       " 'fire',\n",
       " 'none',\n",
       " 'fire',\n",
       " 'fire',\n",
       " 'fire',\n",
       " 'none',\n",
       " 'none',\n",
       " 'fire',\n",
       " 'fire',\n",
       " 'none',\n",
       " 'fire',\n",
       " 'none',\n",
       " 'fire',\n",
       " 'none',\n",
       " 'none',\n",
       " 'none',\n",
       " 'none',\n",
       " 'fire',\n",
       " 'none',\n",
       " 'fire',\n",
       " 'fire',\n",
       " 'fire',\n",
       " 'fire',\n",
       " 'fire',\n",
       " 'fire',\n",
       " 'fire',\n",
       " 'none',\n",
       " 'none',\n",
       " 'fire',\n",
       " 'fire',\n",
       " 'none',\n",
       " 'none',\n",
       " 'fire',\n",
       " 'fire',\n",
       " 'fire',\n",
       " 'none',\n",
       " 'none',\n",
       " 'fire',\n",
       " 'fire',\n",
       " 'none',\n",
       " 'none',\n",
       " 'none',\n",
       " 'none',\n",
       " 'none',\n",
       " 'none',\n",
       " 'fire',\n",
       " 'fire',\n",
       " 'fire',\n",
       " 'fire',\n",
       " 'none',\n",
       " 'fire',\n",
       " 'fire',\n",
       " 'fire',\n",
       " 'fire',\n",
       " 'none',\n",
       " 'fire',\n",
       " 'fire',\n",
       " 'fire',\n",
       " 'fire',\n",
       " 'none',\n",
       " 'none',\n",
       " 'fire',\n",
       " 'none',\n",
       " 'fire',\n",
       " 'none',\n",
       " 'none',\n",
       " 'fire',\n",
       " 'none',\n",
       " 'fire',\n",
       " 'none',\n",
       " 'none',\n",
       " 'fire',\n",
       " 'none',\n",
       " 'fire',\n",
       " 'none',\n",
       " 'fire',\n",
       " 'none',\n",
       " 'none',\n",
       " 'fire',\n",
       " 'fire',\n",
       " 'none',\n",
       " 'fire',\n",
       " 'none',\n",
       " 'fire',\n",
       " 'none',\n",
       " 'fire',\n",
       " 'none',\n",
       " 'fire',\n",
       " 'fire',\n",
       " 'fire',\n",
       " 'fire',\n",
       " 'none',\n",
       " 'fire',\n",
       " 'fire',\n",
       " 'fire',\n",
       " 'fire',\n",
       " 'none',\n",
       " 'none',\n",
       " 'fire',\n",
       " 'fire',\n",
       " 'none',\n",
       " 'none',\n",
       " 'fire',\n",
       " 'fire',\n",
       " 'fire',\n",
       " 'fire',\n",
       " 'none',\n",
       " 'none',\n",
       " 'none',\n",
       " 'none',\n",
       " 'none',\n",
       " 'fire',\n",
       " 'none',\n",
       " 'none',\n",
       " 'none',\n",
       " 'none',\n",
       " 'none',\n",
       " 'none',\n",
       " 'none',\n",
       " 'none',\n",
       " 'none',\n",
       " 'none',\n",
       " 'none',\n",
       " 'none',\n",
       " 'none',\n",
       " 'none',\n",
       " 'fire',\n",
       " 'none',\n",
       " 'none',\n",
       " 'none',\n",
       " 'none',\n",
       " 'fire',\n",
       " 'fire',\n",
       " 'none',\n",
       " 'none',\n",
       " 'none',\n",
       " 'none',\n",
       " 'none',\n",
       " 'none',\n",
       " 'none',\n",
       " 'fire',\n",
       " 'none',\n",
       " 'none',\n",
       " 'none',\n",
       " 'none',\n",
       " 'none',\n",
       " 'none',\n",
       " 'none',\n",
       " 'none',\n",
       " 'none',\n",
       " 'none',\n",
       " 'none',\n",
       " 'fire',\n",
       " 'none',\n",
       " 'none',\n",
       " 'none',\n",
       " 'none',\n",
       " 'none',\n",
       " 'none',\n",
       " 'none',\n",
       " 'none',\n",
       " 'none',\n",
       " 'none',\n",
       " 'none',\n",
       " 'none',\n",
       " 'none',\n",
       " 'none',\n",
       " 'none',\n",
       " 'none',\n",
       " 'none',\n",
       " 'none',\n",
       " 'none',\n",
       " 'none',\n",
       " 'none',\n",
       " 'none',\n",
       " 'none',\n",
       " 'fire',\n",
       " 'none',\n",
       " 'none',\n",
       " 'none',\n",
       " 'none',\n",
       " 'none',\n",
       " 'none',\n",
       " 'none',\n",
       " 'none',\n",
       " 'fire',\n",
       " 'none',\n",
       " 'none',\n",
       " 'none',\n",
       " 'none',\n",
       " 'none',\n",
       " 'none',\n",
       " 'none',\n",
       " 'none',\n",
       " 'fire',\n",
       " 'none',\n",
       " 'none',\n",
       " 'none',\n",
       " 'none',\n",
       " 'none',\n",
       " 'none',\n",
       " 'none',\n",
       " 'none',\n",
       " 'none',\n",
       " 'fire',\n",
       " 'fire',\n",
       " 'fire',\n",
       " 'fire',\n",
       " 'fire',\n",
       " 'none',\n",
       " 'none',\n",
       " 'none',\n",
       " 'none',\n",
       " 'none',\n",
       " 'none',\n",
       " 'none',\n",
       " 'none',\n",
       " 'none',\n",
       " 'none',\n",
       " 'none',\n",
       " 'none',\n",
       " 'none',\n",
       " 'none',\n",
       " 'none',\n",
       " 'none',\n",
       " 'none',\n",
       " 'fire',\n",
       " 'none',\n",
       " 'none',\n",
       " 'none',\n",
       " 'none',\n",
       " 'none',\n",
       " 'fire',\n",
       " 'fire',\n",
       " 'fire',\n",
       " 'fire',\n",
       " 'none',\n",
       " 'none',\n",
       " 'fire',\n",
       " 'fire',\n",
       " 'fire',\n",
       " 'none',\n",
       " 'none',\n",
       " 'none',\n",
       " 'none',\n",
       " 'none',\n",
       " 'none',\n",
       " 'none',\n",
       " 'fire',\n",
       " 'none',\n",
       " 'none',\n",
       " 'fire',\n",
       " 'fire',\n",
       " 'fire',\n",
       " 'none',\n",
       " 'none',\n",
       " 'none',\n",
       " 'fire',\n",
       " 'none',\n",
       " 'fire',\n",
       " 'none',\n",
       " 'none',\n",
       " 'fire',\n",
       " 'none',\n",
       " 'none',\n",
       " 'fire',\n",
       " 'none',\n",
       " 'none',\n",
       " 'fire',\n",
       " 'fire',\n",
       " 'none',\n",
       " 'fire',\n",
       " 'fire',\n",
       " 'none',\n",
       " 'none',\n",
       " 'none',\n",
       " 'none',\n",
       " 'none',\n",
       " 'fire',\n",
       " 'none',\n",
       " 'none',\n",
       " 'none',\n",
       " 'fire',\n",
       " 'none',\n",
       " 'none',\n",
       " 'none',\n",
       " 'none',\n",
       " 'none',\n",
       " 'none',\n",
       " 'fire',\n",
       " 'fire',\n",
       " 'fire',\n",
       " 'none',\n",
       " 'fire',\n",
       " 'fire',\n",
       " 'none',\n",
       " 'none',\n",
       " 'none',\n",
       " 'none',\n",
       " 'none',\n",
       " 'none',\n",
       " 'none',\n",
       " 'none',\n",
       " 'none',\n",
       " 'fire',\n",
       " 'none',\n",
       " 'none',\n",
       " 'fire',\n",
       " 'none',\n",
       " 'none',\n",
       " 'none',\n",
       " 'fire',\n",
       " 'none',\n",
       " 'none',\n",
       " 'none',\n",
       " 'none',\n",
       " 'none',\n",
       " 'none',\n",
       " 'none',\n",
       " 'none',\n",
       " 'none',\n",
       " 'none',\n",
       " 'fire',\n",
       " 'none',\n",
       " 'fire',\n",
       " 'fire',\n",
       " 'fire',\n",
       " 'fire',\n",
       " 'none',\n",
       " 'fire',\n",
       " 'none',\n",
       " 'fire',\n",
       " 'none',\n",
       " 'fire',\n",
       " 'none',\n",
       " 'none',\n",
       " 'none',\n",
       " 'none',\n",
       " 'none',\n",
       " 'fire',\n",
       " 'none',\n",
       " 'fire',\n",
       " 'none',\n",
       " 'fire',\n",
       " 'fire',\n",
       " 'none',\n",
       " 'fire',\n",
       " 'none',\n",
       " 'none',\n",
       " 'none',\n",
       " 'none',\n",
       " 'none',\n",
       " 'none',\n",
       " 'none',\n",
       " 'none',\n",
       " 'none',\n",
       " 'fire',\n",
       " 'fire',\n",
       " 'none',\n",
       " 'none',\n",
       " 'none',\n",
       " 'none',\n",
       " 'none',\n",
       " 'none',\n",
       " 'none',\n",
       " 'none',\n",
       " 'none',\n",
       " 'none',\n",
       " 'none',\n",
       " 'fire',\n",
       " 'none',\n",
       " 'fire',\n",
       " 'none',\n",
       " 'none',\n",
       " 'none',\n",
       " 'none',\n",
       " 'none',\n",
       " 'fire',\n",
       " 'none',\n",
       " 'none',\n",
       " 'fire',\n",
       " 'none',\n",
       " 'none',\n",
       " 'none',\n",
       " 'none',\n",
       " 'none',\n",
       " 'none',\n",
       " 'none',\n",
       " 'none',\n",
       " 'none',\n",
       " 'none',\n",
       " 'none',\n",
       " 'none',\n",
       " 'none',\n",
       " 'none',\n",
       " 'none',\n",
       " 'none',\n",
       " 'fire',\n",
       " 'none',\n",
       " 'none',\n",
       " 'none',\n",
       " 'none',\n",
       " 'none',\n",
       " 'fire',\n",
       " 'none',\n",
       " 'none',\n",
       " 'none',\n",
       " 'none',\n",
       " 'fire',\n",
       " 'none',\n",
       " 'none',\n",
       " 'none',\n",
       " 'none',\n",
       " 'none',\n",
       " 'fire',\n",
       " 'none',\n",
       " 'none',\n",
       " 'none',\n",
       " 'fire',\n",
       " 'fire',\n",
       " 'none',\n",
       " 'fire',\n",
       " 'fire',\n",
       " 'none',\n",
       " 'none',\n",
       " 'none',\n",
       " 'none',\n",
       " 'fire',\n",
       " 'none',\n",
       " 'none',\n",
       " 'none',\n",
       " 'none',\n",
       " 'none',\n",
       " 'none',\n",
       " 'none',\n",
       " 'fire',\n",
       " 'none',\n",
       " 'none',\n",
       " 'none',\n",
       " 'none',\n",
       " 'fire',\n",
       " 'none',\n",
       " 'none',\n",
       " 'none',\n",
       " 'none',\n",
       " 'none',\n",
       " 'none',\n",
       " 'none',\n",
       " 'sinkhole',\n",
       " 'none',\n",
       " 'none',\n",
       " 'none',\n",
       " 'none',\n",
       " 'none',\n",
       " 'sinkhole',\n",
       " 'sinkhole',\n",
       " 'none',\n",
       " 'sinkhole',\n",
       " 'none',\n",
       " 'none',\n",
       " 'sinkhole',\n",
       " 'sinkhole',\n",
       " 'sinkhole',\n",
       " 'sinkhole',\n",
       " 'none',\n",
       " 'sinkhole',\n",
       " 'sinkhole',\n",
       " 'sinkhole',\n",
       " 'sinkhole',\n",
       " 'sinkhole',\n",
       " 'none',\n",
       " 'sinkhole',\n",
       " 'none',\n",
       " 'none',\n",
       " 'sinkhole',\n",
       " 'sinkhole',\n",
       " 'sinkhole',\n",
       " 'sinkhole',\n",
       " 'sinkhole',\n",
       " 'sinkhole',\n",
       " 'sinkhole',\n",
       " 'sinkhole',\n",
       " 'sinkhole',\n",
       " 'sinkhole',\n",
       " 'sinkhole',\n",
       " 'sinkhole',\n",
       " 'sinkhole',\n",
       " 'none',\n",
       " 'sinkhole',\n",
       " 'none',\n",
       " 'none',\n",
       " 'sinkhole',\n",
       " 'none',\n",
       " 'none',\n",
       " 'sinkhole',\n",
       " 'sinkhole',\n",
       " 'none',\n",
       " 'sinkhole',\n",
       " 'sinkhole',\n",
       " 'none',\n",
       " 'none',\n",
       " 'sinkhole',\n",
       " 'sinkhole',\n",
       " 'sinkhole',\n",
       " 'sinkhole',\n",
       " 'none',\n",
       " 'sinkhole',\n",
       " 'sinkhole',\n",
       " 'sinkhole',\n",
       " 'none',\n",
       " 'none',\n",
       " 'sinkhole',\n",
       " 'sinkhole',\n",
       " 'none',\n",
       " 'sinkhole',\n",
       " 'sinkhole',\n",
       " 'none',\n",
       " 'sinkhole',\n",
       " 'sinkhole',\n",
       " 'sinkhole',\n",
       " 'sinkhole',\n",
       " 'sinkhole',\n",
       " 'sinkhole',\n",
       " 'sinkhole',\n",
       " 'sinkhole',\n",
       " 'none',\n",
       " 'sinkhole',\n",
       " 'sinkhole',\n",
       " 'sinkhole',\n",
       " 'sinkhole',\n",
       " 'sinkhole',\n",
       " 'none',\n",
       " 'none',\n",
       " 'sinkhole',\n",
       " 'none',\n",
       " 'none',\n",
       " 'none',\n",
       " 'sinkhole',\n",
       " 'sinkhole',\n",
       " 'sinkhole',\n",
       " 'none',\n",
       " 'sinkhole',\n",
       " 'none',\n",
       " 'none',\n",
       " 'sinkhole',\n",
       " 'sinkhole',\n",
       " 'sinkhole',\n",
       " 'none',\n",
       " 'sinkhole',\n",
       " 'none',\n",
       " 'sinkhole',\n",
       " 'sinkhole',\n",
       " 'sinkhole',\n",
       " 'none',\n",
       " 'none',\n",
       " 'none',\n",
       " 'none',\n",
       " 'none',\n",
       " 'none',\n",
       " 'none',\n",
       " 'none',\n",
       " 'none',\n",
       " 'none',\n",
       " 'sinkhole',\n",
       " 'none',\n",
       " 'none',\n",
       " 'none',\n",
       " 'none',\n",
       " 'none',\n",
       " 'none',\n",
       " 'none',\n",
       " 'none',\n",
       " 'none',\n",
       " 'none',\n",
       " 'none',\n",
       " 'none',\n",
       " 'none',\n",
       " 'none',\n",
       " 'none',\n",
       " 'none',\n",
       " 'none',\n",
       " 'none',\n",
       " 'none',\n",
       " 'none',\n",
       " 'none',\n",
       " 'none',\n",
       " 'none',\n",
       " 'none',\n",
       " 'none',\n",
       " 'none',\n",
       " 'none',\n",
       " 'none',\n",
       " 'none',\n",
       " 'none',\n",
       " 'none',\n",
       " 'none',\n",
       " 'none',\n",
       " 'none',\n",
       " 'none',\n",
       " 'none',\n",
       " 'none',\n",
       " 'sinkhole',\n",
       " 'sinkhole',\n",
       " 'sinkhole',\n",
       " 'none',\n",
       " 'none',\n",
       " 'none',\n",
       " 'none',\n",
       " 'none',\n",
       " 'none',\n",
       " 'none',\n",
       " 'none',\n",
       " 'none',\n",
       " 'none',\n",
       " 'none',\n",
       " 'none',\n",
       " 'none',\n",
       " 'none',\n",
       " 'none',\n",
       " 'none',\n",
       " 'none',\n",
       " 'none',\n",
       " 'sinkhole',\n",
       " 'none',\n",
       " 'none',\n",
       " 'none',\n",
       " 'none',\n",
       " 'none',\n",
       " 'none',\n",
       " 'none',\n",
       " 'none',\n",
       " 'none',\n",
       " 'none',\n",
       " 'none',\n",
       " 'none',\n",
       " 'none',\n",
       " 'none',\n",
       " 'none',\n",
       " 'none',\n",
       " 'none',\n",
       " 'none',\n",
       " 'none',\n",
       " 'none',\n",
       " 'none',\n",
       " 'none',\n",
       " 'none',\n",
       " 'none',\n",
       " 'none',\n",
       " 'none',\n",
       " 'none',\n",
       " 'none',\n",
       " 'none',\n",
       " 'none',\n",
       " 'none',\n",
       " 'none',\n",
       " 'none',\n",
       " 'none',\n",
       " 'none',\n",
       " 'none',\n",
       " 'none',\n",
       " 'none',\n",
       " 'none',\n",
       " 'none',\n",
       " 'none',\n",
       " 'none',\n",
       " 'none',\n",
       " 'sinkhole',\n",
       " 'none',\n",
       " 'none',\n",
       " 'none',\n",
       " 'none',\n",
       " 'none',\n",
       " 'none',\n",
       " 'none',\n",
       " 'none',\n",
       " 'none',\n",
       " 'none',\n",
       " 'none',\n",
       " 'none',\n",
       " 'none',\n",
       " 'none',\n",
       " 'none',\n",
       " 'none',\n",
       " 'none',\n",
       " 'none',\n",
       " 'none',\n",
       " 'none',\n",
       " 'none',\n",
       " 'none',\n",
       " 'none',\n",
       " 'none',\n",
       " 'none',\n",
       " 'none',\n",
       " 'none',\n",
       " 'none',\n",
       " 'none',\n",
       " 'none',\n",
       " 'none',\n",
       " 'none',\n",
       " 'none',\n",
       " 'none',\n",
       " 'none',\n",
       " 'none',\n",
       " 'none',\n",
       " 'none',\n",
       " 'none',\n",
       " 'none',\n",
       " 'none',\n",
       " 'none',\n",
       " 'none',\n",
       " 'none',\n",
       " 'none',\n",
       " 'none',\n",
       " 'none',\n",
       " 'none',\n",
       " 'none',\n",
       " 'none',\n",
       " 'none',\n",
       " 'none',\n",
       " 'none',\n",
       " 'none',\n",
       " 'none',\n",
       " 'none',\n",
       " 'none',\n",
       " 'none',\n",
       " 'none',\n",
       " 'none',\n",
       " 'none',\n",
       " 'none',\n",
       " 'none',\n",
       " 'none',\n",
       " 'none',\n",
       " 'none',\n",
       " 'none',\n",
       " 'none',\n",
       " 'none',\n",
       " 'none',\n",
       " 'none',\n",
       " 'none',\n",
       " 'none',\n",
       " 'none',\n",
       " 'none',\n",
       " 'none',\n",
       " 'none',\n",
       " 'none',\n",
       " 'none',\n",
       " 'none',\n",
       " 'none',\n",
       " 'none',\n",
       " 'none',\n",
       " 'none',\n",
       " 'none',\n",
       " 'none',\n",
       " 'none',\n",
       " 'none',\n",
       " 'none',\n",
       " 'none',\n",
       " 'none',\n",
       " 'none',\n",
       " 'none',\n",
       " ...]"
      ]
     },
     "execution_count": 24,
     "metadata": {},
     "output_type": "execute_result"
    }
   ],
   "source": [
    "predicted"
   ]
  },
  {
   "cell_type": "code",
   "execution_count": 25,
   "metadata": {},
   "outputs": [],
   "source": [
    "df[\"predicted\"] = predicted"
   ]
  },
  {
   "cell_type": "code",
   "execution_count": null,
   "metadata": {},
   "outputs": [],
   "source": [
    "df[\"disasterKind\"] = df[\"disasterKind\"].apply(lambda x: integerToLabel[x])"
   ]
  },
  {
   "cell_type": "code",
   "execution_count": null,
   "metadata": {},
   "outputs": [],
   "source": [
    "unmatchedOrDisaster = df.loc[(df[\"disasterKind\"] != \"none\") | (df[\"disasterKind\"] != df[\"predicted\"])]"
   ]
  },
  {
   "cell_type": "code",
   "execution_count": 36,
   "metadata": {},
   "outputs": [
    {
     "data": {
      "text/html": [
       "<div>\n",
       "<style scoped>\n",
       "    .dataframe tbody tr th:only-of-type {\n",
       "        vertical-align: middle;\n",
       "    }\n",
       "\n",
       "    .dataframe tbody tr th {\n",
       "        vertical-align: top;\n",
       "    }\n",
       "\n",
       "    .dataframe thead th {\n",
       "        text-align: right;\n",
       "    }\n",
       "</style>\n",
       "<table border=\"1\" class=\"dataframe\">\n",
       "  <thead>\n",
       "    <tr style=\"text-align: right;\">\n",
       "      <th></th>\n",
       "      <th>merged</th>\n",
       "      <th>disasterKind</th>\n",
       "      <th>predicted</th>\n",
       "    </tr>\n",
       "  </thead>\n",
       "  <tbody>\n",
       "    <tr>\n",
       "      <th>2</th>\n",
       "      <td>쿠바, 허리케인 끝나자 이번엔 규모 6.8 지진…\"이런 지진은 처음\"\\n지진 후 1...</td>\n",
       "      <td>earthquake</td>\n",
       "      <td>earthquake</td>\n",
       "    </tr>\n",
       "    <tr>\n",
       "      <th>9</th>\n",
       "      <td>미 캘리포니아 북부해안 규모 7.0 지진후 여진 계속…‘비상사태’ 선포\\n미국 캘리...</td>\n",
       "      <td>earthquake</td>\n",
       "      <td>earthquake</td>\n",
       "    </tr>\n",
       "    <tr>\n",
       "      <th>12</th>\n",
       "      <td>[일본] 미야기현 앞바다 지진\\n지진 발생 당시 유튜브 실시간 방송 화면 https...</td>\n",
       "      <td>earthquake</td>\n",
       "      <td>earthquake</td>\n",
       "    </tr>\n",
       "    <tr>\n",
       "      <th>13</th>\n",
       "      <td>[일본] 이시카와현 서쪽 바다에서 지진\\n지진 발생 당시 실시간 방송 화면 http...</td>\n",
       "      <td>earthquake</td>\n",
       "      <td>earthquake</td>\n",
       "    </tr>\n",
       "    <tr>\n",
       "      <th>21</th>\n",
       "      <td>지진 발생\\n한국시간 12월 9일(월) 04:57 알류샨 열도를 진원으로 규모 6....</td>\n",
       "      <td>earthquake</td>\n",
       "      <td>earthquake</td>\n",
       "    </tr>\n",
       "    <tr>\n",
       "      <th>...</th>\n",
       "      <td>...</td>\n",
       "      <td>...</td>\n",
       "      <td>...</td>\n",
       "    </tr>\n",
       "    <tr>\n",
       "      <th>925</th>\n",
       "      <td>싱크홀 오우야\\nnan</td>\n",
       "      <td>sinkhole</td>\n",
       "      <td>sinkhole</td>\n",
       "    </tr>\n",
       "    <tr>\n",
       "      <th>926</th>\n",
       "      <td>싱크홀ㅋㅋㅋㅋㅋㅋㅋㅋ\\n- dc official App</td>\n",
       "      <td>sinkhole</td>\n",
       "      <td>sinkhole</td>\n",
       "    </tr>\n",
       "    <tr>\n",
       "      <th>927</th>\n",
       "      <td>싱크홀 ㅋㅋㅋㅋㅋㅋㅋㅋ\\nnan</td>\n",
       "      <td>sinkhole</td>\n",
       "      <td>sinkhole</td>\n",
       "    </tr>\n",
       "    <tr>\n",
       "      <th>947</th>\n",
       "      <td>사상하단은 또 싱크홀이네.\\nhttps://youtu.be/tm05yT8KWWk [...</td>\n",
       "      <td>sinkhole</td>\n",
       "      <td>sinkhole</td>\n",
       "    </tr>\n",
       "    <tr>\n",
       "      <th>995</th>\n",
       "      <td>속보 잠실 싱크홀 발견\\n.</td>\n",
       "      <td>sinkhole</td>\n",
       "      <td>sinkhole</td>\n",
       "    </tr>\n",
       "  </tbody>\n",
       "</table>\n",
       "<p>267 rows × 3 columns</p>\n",
       "</div>"
      ],
      "text/plain": [
       "                                                merged disasterKind  \\\n",
       "2    쿠바, 허리케인 끝나자 이번엔 규모 6.8 지진…\"이런 지진은 처음\"\\n지진 후 1...   earthquake   \n",
       "9    미 캘리포니아 북부해안 규모 7.0 지진후 여진 계속…‘비상사태’ 선포\\n미국 캘리...   earthquake   \n",
       "12   [일본] 미야기현 앞바다 지진\\n지진 발생 당시 유튜브 실시간 방송 화면 https...   earthquake   \n",
       "13   [일본] 이시카와현 서쪽 바다에서 지진\\n지진 발생 당시 실시간 방송 화면 http...   earthquake   \n",
       "21   지진 발생\\n한국시간 12월 9일(월) 04:57 알류샨 열도를 진원으로 규모 6....   earthquake   \n",
       "..                                                 ...          ...   \n",
       "925                                       싱크홀 오우야\\nnan     sinkhole   \n",
       "926                     싱크홀ㅋㅋㅋㅋㅋㅋㅋㅋ\\n- dc official App     sinkhole   \n",
       "927                                  싱크홀 ㅋㅋㅋㅋㅋㅋㅋㅋ\\nnan     sinkhole   \n",
       "947  사상하단은 또 싱크홀이네.\\nhttps://youtu.be/tm05yT8KWWk [...     sinkhole   \n",
       "995                                    속보 잠실 싱크홀 발견\\n.     sinkhole   \n",
       "\n",
       "      predicted  \n",
       "2    earthquake  \n",
       "9    earthquake  \n",
       "12   earthquake  \n",
       "13   earthquake  \n",
       "21   earthquake  \n",
       "..          ...  \n",
       "925    sinkhole  \n",
       "926    sinkhole  \n",
       "927    sinkhole  \n",
       "947    sinkhole  \n",
       "995    sinkhole  \n",
       "\n",
       "[267 rows x 3 columns]"
      ]
     },
     "execution_count": 36,
     "metadata": {},
     "output_type": "execute_result"
    }
   ],
   "source": [
    "unmatchedOrDisaster"
   ]
  },
  {
   "cell_type": "code",
   "execution_count": 40,
   "metadata": {},
   "outputs": [
    {
     "data": {
      "text/plain": [
       "0.9610726643598616"
      ]
     },
     "execution_count": 40,
     "metadata": {},
     "output_type": "execute_result"
    }
   ],
   "source": [
    "from sklearn.metrics import accuracy_score\n",
    "y_true = df[\"disasterKind\"]\n",
    "y_pred = df[\"predicted\"]\n",
    "accuracy_score(y_true, y_pred)"
   ]
  },
  {
   "cell_type": "code",
   "execution_count": 41,
   "metadata": {},
   "outputs": [
    {
     "data": {
      "text/plain": [
       "0.8314606741573034"
      ]
     },
     "execution_count": 41,
     "metadata": {},
     "output_type": "execute_result"
    }
   ],
   "source": [
    "accuracy_score(unmatchedOrDisaster[\"disasterKind\"], unmatchedOrDisaster[\"predicted\"])"
   ]
  },
  {
   "cell_type": "code",
   "execution_count": null,
   "metadata": {},
   "outputs": [
    {
     "data": {
      "text/plain": [
       "<sklearn.metrics._plot.confusion_matrix.ConfusionMatrixDisplay at 0x7fe87620df60>"
      ]
     },
     "execution_count": 50,
     "metadata": {},
     "output_type": "execute_result"
    },
    {
     "data": {
      "image/png": "[encoded data removed]",
      "text/plain": [
       "<Figure size 640x480 with 2 Axes>"
      ]
     },
     "metadata": {},
     "output_type": "display_data"
    }
   ],
   "source": [
    "from sklearn.metrics import ConfusionMatrixDisplay\n",
    "\n",
    "ConfusionMatrixDisplay.from_predictions(y_true, y_pred)"
   ]
  },
  {
   "cell_type": "code",
   "execution_count": 62,
   "metadata": {},
   "outputs": [
    {
     "data": {
      "text/plain": [
       "['earthquake']"
      ]
     },
     "execution_count": 62,
     "metadata": {},
     "output_type": "execute_result"
    }
   ],
   "source": [
    "predict([\"방금 지진임???\\n흔들렸는데\"])"
   ]
  },
  {
   "cell_type": "code",
   "execution_count": 63,
   "metadata": {},
   "outputs": [
    {
     "data": {
      "text/plain": [
       "['sinkhole']"
      ]
     },
     "execution_count": 63,
     "metadata": {},
     "output_type": "execute_result"
    }
   ],
   "source": [
    "predict([\"오는데 바닥에 땅꺼져있더라\\n싱크홀 처음봄\"])"
   ]
  },
  {
   "cell_type": "markdown",
   "metadata": {},
   "source": [
    "## Evaluation with test sets only"
   ]
  },
  {
   "cell_type": "code",
   "execution_count": 87,
   "metadata": {},
   "outputs": [],
   "source": [
    "testData = pandas.DataFrame(dataset_test, columns=[\"content\", \"actual\"])\n",
    "testData[\"actual\"] = testData[\"actual\"].apply(lambda x: integerToLabel[x])"
   ]
  },
  {
   "cell_type": "code",
   "execution_count": 88,
   "metadata": {},
   "outputs": [
    {
     "data": {
      "text/html": [
       "<div>\n",
       "<style scoped>\n",
       "    .dataframe tbody tr th:only-of-type {\n",
       "        vertical-align: middle;\n",
       "    }\n",
       "\n",
       "    .dataframe tbody tr th {\n",
       "        vertical-align: top;\n",
       "    }\n",
       "\n",
       "    .dataframe thead th {\n",
       "        text-align: right;\n",
       "    }\n",
       "</style>\n",
       "<table border=\"1\" class=\"dataframe\">\n",
       "  <thead>\n",
       "    <tr style=\"text-align: right;\">\n",
       "      <th></th>\n",
       "      <th>content</th>\n",
       "      <th>actual</th>\n",
       "    </tr>\n",
       "  </thead>\n",
       "  <tbody>\n",
       "    <tr>\n",
       "      <th>0</th>\n",
       "      <td>깡담비이야기요약좀\\n머하다불남 방송못봄</td>\n",
       "      <td>none</td>\n",
       "    </tr>\n",
       "    <tr>\n",
       "      <th>1</th>\n",
       "      <td>미친 미국 7.5 지진\\nhttps://naver.me/5PVCFtdn [속보] 美...</td>\n",
       "      <td>earthquake</td>\n",
       "    </tr>\n",
       "    <tr>\n",
       "      <th>2</th>\n",
       "      <td>근데 기자도 웃긴게 왜 아본이 그 말을 하게되었는지\\n갖고 와야지 ㅋㅋㅋㅋㅋㅋㅋㅋ ...</td>\n",
       "      <td>none</td>\n",
       "    </tr>\n",
       "    <tr>\n",
       "      <th>3</th>\n",
       "      <td>아니 근데 진격의 거인이랑 강철의 연금술사 뭐 비교하긴 좀 글치 않나?\\n아니 근데...</td>\n",
       "      <td>none</td>\n",
       "    </tr>\n",
       "    <tr>\n",
       "      <th>4</th>\n",
       "      <td>싱글벙글 싱크홀이 생기는 과정\\n의도했든 안했든 물웅덩이를 건드려서 물을 빼버림 ▶...</td>\n",
       "      <td>none</td>\n",
       "    </tr>\n",
       "  </tbody>\n",
       "</table>\n",
       "</div>"
      ],
      "text/plain": [
       "                                             content      actual\n",
       "0                              깡담비이야기요약좀\\n머하다불남 방송못봄        none\n",
       "1  미친 미국 7.5 지진\\nhttps://naver.me/5PVCFtdn [속보] 美...  earthquake\n",
       "2  근데 기자도 웃긴게 왜 아본이 그 말을 하게되었는지\\n갖고 와야지 ㅋㅋㅋㅋㅋㅋㅋㅋ ...        none\n",
       "3  아니 근데 진격의 거인이랑 강철의 연금술사 뭐 비교하긴 좀 글치 않나?\\n아니 근데...        none\n",
       "4  싱글벙글 싱크홀이 생기는 과정\\n의도했든 안했든 물웅덩이를 건드려서 물을 빼버림 ▶...        none"
      ]
     },
     "execution_count": 88,
     "metadata": {},
     "output_type": "execute_result"
    }
   ],
   "source": [
    "testData.head()"
   ]
  },
  {
   "cell_type": "code",
   "execution_count": 89,
   "metadata": {},
   "outputs": [],
   "source": [
    "testData[\"predicted\"] = predict(testData[\"content\"])"
   ]
  },
  {
   "cell_type": "code",
   "execution_count": 90,
   "metadata": {},
   "outputs": [
    {
     "data": {
      "text/html": [
       "<div>\n",
       "<style scoped>\n",
       "    .dataframe tbody tr th:only-of-type {\n",
       "        vertical-align: middle;\n",
       "    }\n",
       "\n",
       "    .dataframe tbody tr th {\n",
       "        vertical-align: top;\n",
       "    }\n",
       "\n",
       "    .dataframe thead th {\n",
       "        text-align: right;\n",
       "    }\n",
       "</style>\n",
       "<table border=\"1\" class=\"dataframe\">\n",
       "  <thead>\n",
       "    <tr style=\"text-align: right;\">\n",
       "      <th></th>\n",
       "      <th>content</th>\n",
       "      <th>actual</th>\n",
       "      <th>predicted</th>\n",
       "    </tr>\n",
       "  </thead>\n",
       "  <tbody>\n",
       "    <tr>\n",
       "      <th>0</th>\n",
       "      <td>깡담비이야기요약좀\\n머하다불남 방송못봄</td>\n",
       "      <td>none</td>\n",
       "      <td>none</td>\n",
       "    </tr>\n",
       "    <tr>\n",
       "      <th>1</th>\n",
       "      <td>미친 미국 7.5 지진\\nhttps://naver.me/5PVCFtdn [속보] 美...</td>\n",
       "      <td>earthquake</td>\n",
       "      <td>earthquake</td>\n",
       "    </tr>\n",
       "    <tr>\n",
       "      <th>2</th>\n",
       "      <td>근데 기자도 웃긴게 왜 아본이 그 말을 하게되었는지\\n갖고 와야지 ㅋㅋㅋㅋㅋㅋㅋㅋ ...</td>\n",
       "      <td>none</td>\n",
       "      <td>none</td>\n",
       "    </tr>\n",
       "    <tr>\n",
       "      <th>3</th>\n",
       "      <td>아니 근데 진격의 거인이랑 강철의 연금술사 뭐 비교하긴 좀 글치 않나?\\n아니 근데...</td>\n",
       "      <td>none</td>\n",
       "      <td>none</td>\n",
       "    </tr>\n",
       "    <tr>\n",
       "      <th>4</th>\n",
       "      <td>싱글벙글 싱크홀이 생기는 과정\\n의도했든 안했든 물웅덩이를 건드려서 물을 빼버림 ▶...</td>\n",
       "      <td>none</td>\n",
       "      <td>none</td>\n",
       "    </tr>\n",
       "    <tr>\n",
       "      <th>...</th>\n",
       "      <td>...</td>\n",
       "      <td>...</td>\n",
       "      <td>...</td>\n",
       "    </tr>\n",
       "    <tr>\n",
       "      <th>227</th>\n",
       "      <td>어제 화재난 부산 미군 55보급창.. 소파 협정으로 화재 원인 조사 못해\\n샌드위치...</td>\n",
       "      <td>fire</td>\n",
       "      <td>fire</td>\n",
       "    </tr>\n",
       "    <tr>\n",
       "      <th>228</th>\n",
       "      <td>뭐야 오랜만에 왔는데 왜 갤 불남\\n게임에서 호시노가 증식한다는 글이 간간히 보이는...</td>\n",
       "      <td>none</td>\n",
       "      <td>none</td>\n",
       "    </tr>\n",
       "    <tr>\n",
       "      <th>229</th>\n",
       "      <td>올시즌 좆같긴했어도 리스크 짊어지고 오뎅을 푸는건 병신짓이지 시발들아\\n여기서나 꺼...</td>\n",
       "      <td>none</td>\n",
       "      <td>none</td>\n",
       "    </tr>\n",
       "    <tr>\n",
       "      <th>230</th>\n",
       "      <td>칸나의 빈자리는 영원히 메워지지 않을거야\\n도로 한복판의 싱크홀처럼 스텔라이브를 지...</td>\n",
       "      <td>none</td>\n",
       "      <td>none</td>\n",
       "    </tr>\n",
       "    <tr>\n",
       "      <th>231</th>\n",
       "      <td>근데 아무리봐도 선관위 이상하지 않음?\\n대선결과에 따라 윤석열 정권이 선관위원장을...</td>\n",
       "      <td>none</td>\n",
       "      <td>none</td>\n",
       "    </tr>\n",
       "  </tbody>\n",
       "</table>\n",
       "<p>232 rows × 3 columns</p>\n",
       "</div>"
      ],
      "text/plain": [
       "                                               content      actual   predicted\n",
       "0                                깡담비이야기요약좀\\n머하다불남 방송못봄        none        none\n",
       "1    미친 미국 7.5 지진\\nhttps://naver.me/5PVCFtdn [속보] 美...  earthquake  earthquake\n",
       "2    근데 기자도 웃긴게 왜 아본이 그 말을 하게되었는지\\n갖고 와야지 ㅋㅋㅋㅋㅋㅋㅋㅋ ...        none        none\n",
       "3    아니 근데 진격의 거인이랑 강철의 연금술사 뭐 비교하긴 좀 글치 않나?\\n아니 근데...        none        none\n",
       "4    싱글벙글 싱크홀이 생기는 과정\\n의도했든 안했든 물웅덩이를 건드려서 물을 빼버림 ▶...        none        none\n",
       "..                                                 ...         ...         ...\n",
       "227  어제 화재난 부산 미군 55보급창.. 소파 협정으로 화재 원인 조사 못해\\n샌드위치...        fire        fire\n",
       "228  뭐야 오랜만에 왔는데 왜 갤 불남\\n게임에서 호시노가 증식한다는 글이 간간히 보이는...        none        none\n",
       "229  올시즌 좆같긴했어도 리스크 짊어지고 오뎅을 푸는건 병신짓이지 시발들아\\n여기서나 꺼...        none        none\n",
       "230  칸나의 빈자리는 영원히 메워지지 않을거야\\n도로 한복판의 싱크홀처럼 스텔라이브를 지...        none        none\n",
       "231  근데 아무리봐도 선관위 이상하지 않음?\\n대선결과에 따라 윤석열 정권이 선관위원장을...        none        none\n",
       "\n",
       "[232 rows x 3 columns]"
      ]
     },
     "execution_count": 90,
     "metadata": {},
     "output_type": "execute_result"
    }
   ],
   "source": [
    "testData"
   ]
  },
  {
   "cell_type": "markdown",
   "metadata": {},
   "source": [
    "#### Accuracy"
   ]
  },
  {
   "cell_type": "code",
   "execution_count": 91,
   "metadata": {},
   "outputs": [
    {
     "name": "stdout",
     "output_type": "stream",
     "text": [
      "Accuracy: 0.9310344827586207\n"
     ]
    }
   ],
   "source": [
    "from sklearn.metrics import accuracy_score\n",
    "y_true = testData[\"actual\"]\n",
    "y_pred = testData[\"predicted\"]\n",
    "print(f\"Accuracy: {accuracy_score(y_true, y_pred)}\")"
   ]
  },
  {
   "cell_type": "markdown",
   "metadata": {},
   "source": [
    "### Balanced Accuracy"
   ]
  },
  {
   "cell_type": "code",
   "execution_count": 92,
   "metadata": {},
   "outputs": [
    {
     "name": "stdout",
     "output_type": "stream",
     "text": [
      "Balanced Accuracy: 0.9308574879227053\n"
     ]
    }
   ],
   "source": [
    "from sklearn.metrics import balanced_accuracy_score\n",
    "print(f\"Balanced Accuracy: {balanced_accuracy_score(y_true, y_pred)}\")"
   ]
  },
  {
   "cell_type": "markdown",
   "metadata": {},
   "source": [
    "### Precision, Recall, F1 score, support"
   ]
  },
  {
   "cell_type": "code",
   "execution_count": 96,
   "metadata": {},
   "outputs": [
    {
     "name": "stdout",
     "output_type": "stream",
     "text": [
      "              precision    recall  f1-score   support\n",
      "\n",
      "        none     0.9667    0.9457    0.9560       184\n",
      "  earthquake     0.8750    1.0000    0.9333         7\n",
      "        fire     0.7778    0.7778    0.7778        27\n",
      "    sinkhole     0.8235    1.0000    0.9032        14\n",
      "\n",
      "    accuracy                         0.9310       232\n",
      "   macro avg     0.8607    0.9309    0.8926       232\n",
      "weighted avg     0.9333    0.9310    0.9314       232\n",
      "\n"
     ]
    }
   ],
   "source": [
    "from sklearn.metrics import classification_report\n",
    "labels=list(labelToInteger.keys())\n",
    "print(classification_report(y_true, y_pred, labels=labels, digits=4))"
   ]
  },
  {
   "cell_type": "markdown",
   "metadata": {},
   "source": [
    "### Confusion matrix"
   ]
  },
  {
   "cell_type": "code",
   "execution_count": 93,
   "metadata": {},
   "outputs": [
    {
     "data": {
      "text/plain": [
       "<sklearn.metrics._plot.confusion_matrix.ConfusionMatrixDisplay at 0x7fe861171fd0>"
      ]
     },
     "execution_count": 93,
     "metadata": {},
     "output_type": "execute_result"
    },
    {
     "data": {
      "image/png": "[encoded data removed]",
      "text/plain": [
       "<Figure size 640x480 with 2 Axes>"
      ]
     },
     "metadata": {},
     "output_type": "display_data"
    }
   ],
   "source": [
    "from sklearn.metrics import ConfusionMatrixDisplay\n",
    "\n",
    "ConfusionMatrixDisplay.from_predictions(y_true, y_pred)"
   ]
  }
 ],
 "metadata": {
  "accelerator": "GPU",
  "colab": {
   "gpuType": "T4",
   "provenance": []
  },
  "kernelspec": {
   "display_name": "Python 3",
   "name": "python3"
  },
  "language_info": {
   "codemirror_mode": {
    "name": "ipython",
    "version": 3
   },
   "file_extension": ".py",
   "mimetype": "text/x-python",
   "name": "python",
   "nbconvert_exporter": "python",
   "pygments_lexer": "ipython3",
   "version": "3.7.3"
  }
 },
 "nbformat": 4,
 "nbformat_minor": 0
}
